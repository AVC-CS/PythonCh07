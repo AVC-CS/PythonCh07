{
 "cells": [
  {
   "cell_type": "markdown",
   "metadata": {},
   "source": [
    "<style>\n",
    "\th1 {\n",
    "\t--\tbackground-color: grey;\n",
    "\t\tcolor: yellow\n",
    "\t\tborder: 3px solid grey\n",
    "\n",
    "\t}\n",
    "\tp {\n",
    "\t\tbackground-color: grey;\n",
    "\t\tcolor: white\n",
    "\t\tborder: 3px solid grey\n",
    "\n",
    "\t}\n",
    "</style>\n",
    "<h1> Chapter 7 List: Part 1</h1>"
   ]
  },
  {
   "cell_type": "markdown",
   "metadata": {},
   "source": [
    "<p style=\"margin-left:40px\">1. 7.1 </p>\n",
    "\n",
    "<p style=\"margin-left:40px\">2. 7.2 \n",
    "\n",
    "<p style=\"margin-left:40px\">3. 7.3 \n",
    "\n",
    "<p style=\"margin-left:40px\">4. 7.4 \n",
    "\n",
    "<p style=\"margin-left:40px\">5. 7.5 \n",
    "\n",
    "<p style=\"margin-left:40px\">6. 7.6 \n",
    "\n",
    "<p style=\"margin-left:40px\">7. 7.7 \n",
    "\n",
    "<p style=\"margin-left:40px\">8. 7.8 \n",
    "\n",
    "<p style=\"margin-left:40px\">9. 7.9 \n",
    "\n",
    "<p style=\"margin-left:40px\">10. 7.10\n",
    "\n",
    "<p style=\"margin-left:40px\">11. 7.11\n"
   ]
  },
  {
   "cell_type": "markdown",
   "metadata": {},
   "source": [
    "***\n",
    "\n",
    "## <p style=\"background-color: grey; color: white \"> ◼️  List </p>\n",
    "# <p style=\"font-family: Arial; font-size:1.4em;color:red;\"> 1. Basic Examples of List</p>\n"
   ]
  },
  {
   "cell_type": "markdown",
   "metadata": {},
   "source": [
    "<style>\n",
    "\th3{\n",
    "\t\tbackground-color: grey\n",
    "\t\tcolor: white\n",
    "\t}\n",
    "</style>\n",
    "\n",
    "<h1> Understanding the \"Mutable Data Type\"  </h1>\n",
    "\n",
    "- Run all the following code cells and check out the result of code segments"
   ]
  },
  {
   "cell_type": "markdown",
   "metadata": {},
   "source": [
    "#### <p style=\"font-family: Arial; font-size:1.4em; background-color: yellow; color:black;\"> Problem #1.0 </p>\n",
    "\n",
    "#### Run all the cells and figure out the Mutal Data Type "
   ]
  },
  {
   "cell_type": "markdown",
   "metadata": {},
   "source": [
    "### What is the value of numbers1 after run the following code cell?"
   ]
  },
  {
   "cell_type": "code",
   "execution_count": null,
   "metadata": {},
   "outputs": [],
   "source": [
    "numbers1 = [1,2,3,4,5,6,7]\n",
    "numbers2 = numbers1\n",
    "\n",
    "del numbers2[:5]\n",
    "\n",
    "numbers1"
   ]
  },
  {
   "cell_type": "markdown",
   "metadata": {},
   "source": [
    "#### <p style=\"font-family: Arial; font-size:1.4em; background-color: yellow; color:black;\"> Problem #1.1 </p>\n",
    "\n",
    "#### Figure out the difference between the following two code segments\n",
    "\n",
    "#### The first code segment: \n",
    "- the number is integer value in the function. \n",
    "- The value of the number is changed by the function\n",
    "- Check the value in the caller function main()\n",
    "- The change of the value of the number is not reflected in the caller function\n",
    "\n",
    "#### The second code segment:\n",
    "- The list is a mutable data type\n",
    "- The value of the list is changed by the function\n",
    "- Check the value in the caller function main()\n",
    "- The change of the value of the list is reflected in the caller function\n",
    "\n",
    "## Explain the output of the following code segments. <br> Elaborate the reason why the output is as such."
   ]
  },
  {
   "cell_type": "code",
   "execution_count": null,
   "metadata": {},
   "outputs": [],
   "source": [
    "def myfuntion(number):\n",
    "    number = 100\n",
    "\n",
    "number = -1\n",
    "myfuntion(number)\n",
    "print ('number in main():', number)\n",
    "# number in main(): -1. Change of the value of the number is not reflected in the caller function"
   ]
  },
  {
   "cell_type": "code",
   "execution_count": null,
   "metadata": {},
   "outputs": [],
   "source": [
    "def myfunction(numbers):\n",
    "    numbers[0] = 100\n",
    "\n",
    "numbers = [-1]\n",
    "myfunction(numbers)\n",
    "print ('numbers in main():', numbers)\n",
    "# numbers in main(): [100]. Change of the value of the list is reflected in the caller function\n"
   ]
  },
  {
   "cell_type": "markdown",
   "metadata": {},
   "source": [
    "#### <p style=\"font-family: Arial; font-size:1.4em; background-color: yellow; color:black;\"> Problem #1.2 </p>\n",
    "\n",
    "#### List the other data types that are working as the same way as the list in the above code segments. \n",
    "### Choose the data types from the following list: \n",
    "- String\n",
    "- Tuple\n",
    "- Dictionary\n",
    "- Set\n",
    "\n",
    "- int\n",
    "- float\n",
    "- boolean\n",
    "\n"
   ]
  },
  {
   "cell_type": "markdown",
   "metadata": {},
   "source": [
    "#### <p style=\"font-family: Arial; font-size:1.4em; background-color: yellow; color:black;\"> Problem #1.3 </p>\n",
    "\n",
    "#### Review the following methods of the list data type. \n",
    "- append()\n",
    "- extend()\n",
    "- insert()\n",
    "- remove()\n",
    "- sort()\n",
    "- reverse()\n",
    "- push()\n",
    "- pop()\n",
    "- count()\n",
    "- index()\n",
    "- copy()\n",
    "- clear() \n",
    "\n",
    "\n"
   ]
  },
  {
   "cell_type": "markdown",
   "metadata": {},
   "source": [
    "### Concatenation of the List\n",
    "```\n",
    "n1 = [1,2,3]\n",
    "n2 = [4,5,6]\n",
    "```\n",
    "\n",
    "### complete your code here to concatenate the two lists"
   ]
  },
  {
   "cell_type": "code",
   "execution_count": null,
   "metadata": {},
   "outputs": [],
   "source": [
    "# your code here"
   ]
  },
  {
   "cell_type": "markdown",
   "metadata": {},
   "source": [
    "Sort the list in the descending order\n",
    "```\n",
    "import random\n",
    "numbers = random.sample(range(1,100), 10)\n",
    "print (numbers)\n",
    "```\n",
    "\n",
    "### complete your code here to sort the list in the descending order\n",
    "\n"
   ]
  },
  {
   "cell_type": "code",
   "execution_count": null,
   "metadata": {},
   "outputs": [],
   "source": []
  }
 ],
 "metadata": {
  "kernelspec": {
   "display_name": "Python 3.9.13 ('base')",
   "language": "python",
   "name": "python3"
  },
  "language_info": {
   "codemirror_mode": {
    "name": "ipython",
    "version": 3
   },
   "file_extension": ".py",
   "mimetype": "text/x-python",
   "name": "python",
   "nbconvert_exporter": "python",
   "pygments_lexer": "ipython3",
   "version": "3.12.4"
  },
  "orig_nbformat": 4,
  "vscode": {
   "interpreter": {
    "hash": "32cd87c0c55905266dc8232ebf1148f668af0d9324249c125246585210a29cd6"
   }
  }
 },
 "nbformat": 4,
 "nbformat_minor": 2
}
