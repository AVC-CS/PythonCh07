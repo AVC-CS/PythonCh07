{
 "cells": [
  {
   "cell_type": "markdown",
   "metadata": {},
   "source": [
    "<style>\n",
    "\th1 {\n",
    "\t--\tbackground-color: grey;\n",
    "\t\tcolor: yellow\n",
    "\t\tborder: 3px solid grey\n",
    "\n",
    "\t}\n",
    "\tp {\n",
    "\t\tbackground-color: grey;\n",
    "\t\tcolor: white\n",
    "\t\tborder: 3px solid grey\n",
    "\n",
    "\t}\n",
    "</style>\n",
    "<h1> Chapter 7 List: Part 1</h1>"
   ]
  },
  {
   "cell_type": "markdown",
   "metadata": {},
   "source": [
    "<p style=\"margin-left:40px\"> 7.6 zip() </p>\n",
    "\n",
    "<p style=\"margin-left:40px\"> 7.7 map()</p>\n",
    "\n",
    "<p style=\"margin-left:40px\"> 7.8 filter()</p>\n",
    "\n",
    "<p style=\"margin-left:40px\"> 7.9 reduce()</p>\n",
    "\n",
    "<p style=\"margin-left:40px\"> 7.10 Programming Exercise </p>\n"
   ]
  },
  {
   "cell_type": "markdown",
   "metadata": {},
   "source": [
    "***\n",
    "\n",
    "## <p style=\"background-color: grey; color: white \"> ◼️  List </p>\n",
    "# <p style=\"font-family: Arial; font-size:1.4em;color:red;\"> 6. zip() </p>\n"
   ]
  },
  {
   "cell_type": "markdown",
   "metadata": {},
   "source": [
    "<style>\n",
    "\th3{\n",
    "\t\tbackground-color: grey\n",
    "\t\tcolor: white\n",
    "\t}\n",
    "</style>\n",
    "\n",
    "<h1> Understanding the zip() </h1>\n",
    "\n",
    "- Run all the following code cells and check out the result of code segments"
   ]
  },
  {
   "cell_type": "markdown",
   "metadata": {},
   "source": [
    "#### <p style=\"font-family: Arial; font-size:1.4em; background-color: yellow; color:black;\"> Problem #6.1 </p>\n",
    "\n",
    "#### Run all the cells and figure out the Mutal Data Type "
   ]
  },
  {
   "cell_type": "code",
   "execution_count": null,
   "metadata": {},
   "outputs": [],
   "source": [
    "n1 = [1, 2, 3]\n",
    "n2 = [4, 5, 6]\n",
    "n3 = [7, 8, 9]\n",
    "\n",
    "print(list(zip(n1, n2, n3)))"
   ]
  },
  {
   "cell_type": "code",
   "execution_count": 4,
   "metadata": {},
   "outputs": [
    {
     "name": "stdout",
     "output_type": "stream",
     "text": [
      "[1, 2, 3] [4, 5, 6] [7, 8, 9]\n"
     ]
    }
   ],
   "source": [
    "numbers = [ [1, 2, 3], [4, 5, 6], [7, 8, 9]]\n",
    "print (*numbers)"
   ]
  },
  {
   "cell_type": "code",
   "execution_count": null,
   "metadata": {},
   "outputs": [],
   "source": [
    "zip_object = zip([1,2,3], [4,5,6], [7,8,9])\n",
    "new_list = list(zip_object)\n",
    "new_list\n"
   ]
  },
  {
   "cell_type": "code",
   "execution_count": null,
   "metadata": {},
   "outputs": [],
   "source": [
    "numbers = [ [1, 2, 3], [4, 5, 6], [7, 8, 9]]\n",
    "\n",
    "new_numbers = list(zip(*numbers))\n",
    "print(new_numbers)\n",
    "\n"
   ]
  },
  {
   "cell_type": "markdown",
   "metadata": {},
   "source": [
    "#### <p style=\"font-family: Arial; font-size:1.4em; background-color: yellow; color:black;\"> Problem #6.2 </p>\n",
    "\n",
    "#### There are students records in the Students list. \n",
    "#### Each student record is a list that contains the student name, age, and [math score, science score, english score].\n",
    "```\n",
    "students = [\n",
    "    [\"John\", 23, [80, 90, 85]],\n",
    "    [\"Jane\", 22, [85, 95, 90]] ]\n",
    "```\n",
    "#### Make a function that returns the list of scores by subject, for example,\n",
    "```\n",
    "scores_by_subject = [\n",
    "    [math_score1, math_score2, math_score3],\n",
    "    [science_score1, science_score2, science_score3],\n",
    "    [english_score1, english_score2, english_score3]\n",
    "]\n",
    "for example,\n",
    "    [[80, 85], [90, 95], [85, 90]]\n",
    "```\n",
    "#### return value: the list of list of scores by subject\n"
   ]
  },
  {
   "cell_type": "code",
   "execution_count": 9,
   "metadata": {},
   "outputs": [
    {
     "name": "stdout",
     "output_type": "stream",
     "text": [
      "[[80, 85, 75, 90, 80, 70, 60], [90, 95, 80, 95, 85, 75, 65], [85, 90, 85, 90, 80, 70, 60]]\n"
     ]
    }
   ],
   "source": [
    "def get_scores_by_subject(students):\n",
    "    ########################\n",
    "    # Write your code here #\n",
    "    ########################\n",
    "    return scores_by_subject\n",
    "\n",
    "\n",
    "\n",
    "students = [\n",
    "    [\"John\", 23, [80, 90, 85]],\n",
    "    [\"Jane\", 22, [85, 95, 90]],\n",
    "    [\"Doe\", 24, [75, 80, 85]],\n",
    "    [\"Kim\", 25, [90, 95, 90]],\n",
    "    [\"Jill\", 26, [80, 85, 80]],\n",
    "    [\"Elizabeth\", 27, [70, 75, 70]],\n",
    "    [\"Kyle\", 28, [60, 65, 60]] \n",
    "]\n",
    "\n",
    "scores_by_subject = get_scores_by_subject(students)\n",
    "print(scores_by_subject)\n"
   ]
  },
  {
   "cell_type": "markdown",
   "metadata": {},
   "source": [
    "#### <p style=\"font-family: Arial; font-size:1.4em; background-color: yellow; color:black;\"> Problem #6.3 </p>\n",
    "\n",
    "### Use zip() and list() to make the function that reconstruct the list of list which is the transpose of the list of list of integer values. \n",
    "#### Make the function that reconstruct the list of list which is the transpose of the list of list of integer values. \n",
    "#### For example, \n",
    "```\n",
    "input: [[1, 2, 3], [4, 5, 6], [7, 8, 9]]\n",
    "output: [[1, 4, 7], [2, 5, 8], [3, 6, 9]]\n",
    "\n",
    "def transpose(matrix):\n",
    "    ########################\n",
    "    # Write your code here #\n",
    "    ########################\n",
    "    return new_list\n",
    "\n",
    "numbers = [[1, 2, 3], [4, 5, 6], [7, 8, 9]]\n",
    "new_numbers = transpose(numbers)\n",
    "print(new_numbers)\n",
    "````\n",
    "\n"
   ]
  },
  {
   "cell_type": "code",
   "execution_count": null,
   "metadata": {},
   "outputs": [],
   "source": [
    "def transpose(matrix):\n",
    "    #################################\n",
    "    # Write your code here #\n",
    "    #################################\n",
    "    return new_list\n",
    "\n",
    "\n",
    "numbers = [[1, 2, 3], [4, 5, 6], [7, 8, 9]]\n",
    "new_numbers = transpose(numbers)\n",
    "print(new_numbers)\n"
   ]
  },
  {
   "cell_type": "markdown",
   "metadata": {},
   "source": [
    "<mark> Save your file by pressing \"Ctrl+S\" or \"git commit -am \"your message\"\" </mark> "
   ]
  },
  {
   "cell_type": "markdown",
   "metadata": {},
   "source": [
    "***\n",
    "\n",
    "## <p style=\"background-color: grey; color: white \"> ◼️  List </p>\n",
    "# <p style=\"font-family: Arial; font-size:1.4em;color:red;\"> 7. map() </p>\n"
   ]
  }
 ],
 "metadata": {
  "kernelspec": {
   "display_name": "base",
   "language": "python",
   "name": "python3"
  },
  "language_info": {
   "codemirror_mode": {
    "name": "ipython",
    "version": 3
   },
   "file_extension": ".py",
   "mimetype": "text/x-python",
   "name": "python",
   "nbconvert_exporter": "python",
   "pygments_lexer": "ipython3",
   "version": "3.12.4"
  }
 },
 "nbformat": 4,
 "nbformat_minor": 2
}
